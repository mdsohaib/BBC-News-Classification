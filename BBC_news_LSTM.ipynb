{
  "nbformat": 4,
  "nbformat_minor": 0,
  "metadata": {
    "colab": {
      "name": "BBC news LSTM.ipynb",
      "provenance": [],
      "collapsed_sections": []
    },
    "kernelspec": {
      "name": "python3",
      "display_name": "Python 3"
    },
    "accelerator": "GPU"
  },
  "cells": [
    {
      "cell_type": "code",
      "metadata": {
        "id": "uPHiVv1lmzi-",
        "colab_type": "code",
        "colab": {}
      },
      "source": [
        "#importing important libraries\n",
        "import numpy as np\n",
        "import pandas as pd\n",
        "import matplotlib.pyplot as plt"
      ],
      "execution_count": 0,
      "outputs": []
    },
    {
      "cell_type": "code",
      "metadata": {
        "id": "cZ3WCAH9n80Y",
        "colab_type": "code",
        "colab": {}
      },
      "source": [
        "url = 'https://raw.githubusercontent.com/mdsohaibuddin/BBC-News-Classification/master/bbc-text.csv'\n",
        "df = pd.read_csv(url, error_bad_lines=False)"
      ],
      "execution_count": 0,
      "outputs": []
    },
    {
      "cell_type": "code",
      "metadata": {
        "id": "ezvcBJIIokDW",
        "colab_type": "code",
        "outputId": "8c54f037-e624-4fef-dfe0-aae157ec6638",
        "colab": {
          "base_uri": "https://localhost:8080/",
          "height": 198
        }
      },
      "source": [
        "df.head()"
      ],
      "execution_count": 3,
      "outputs": [
        {
          "output_type": "execute_result",
          "data": {
            "text/html": [
              "<div>\n",
              "<style scoped>\n",
              "    .dataframe tbody tr th:only-of-type {\n",
              "        vertical-align: middle;\n",
              "    }\n",
              "\n",
              "    .dataframe tbody tr th {\n",
              "        vertical-align: top;\n",
              "    }\n",
              "\n",
              "    .dataframe thead th {\n",
              "        text-align: right;\n",
              "    }\n",
              "</style>\n",
              "<table border=\"1\" class=\"dataframe\">\n",
              "  <thead>\n",
              "    <tr style=\"text-align: right;\">\n",
              "      <th></th>\n",
              "      <th>category</th>\n",
              "      <th>text</th>\n",
              "    </tr>\n",
              "  </thead>\n",
              "  <tbody>\n",
              "    <tr>\n",
              "      <th>0</th>\n",
              "      <td>tech</td>\n",
              "      <td>tv future in the hands of viewers with home th...</td>\n",
              "    </tr>\n",
              "    <tr>\n",
              "      <th>1</th>\n",
              "      <td>business</td>\n",
              "      <td>worldcom boss  left books alone  former worldc...</td>\n",
              "    </tr>\n",
              "    <tr>\n",
              "      <th>2</th>\n",
              "      <td>sport</td>\n",
              "      <td>tigers wary of farrell  gamble  leicester say ...</td>\n",
              "    </tr>\n",
              "    <tr>\n",
              "      <th>3</th>\n",
              "      <td>sport</td>\n",
              "      <td>yeading face newcastle in fa cup premiership s...</td>\n",
              "    </tr>\n",
              "    <tr>\n",
              "      <th>4</th>\n",
              "      <td>entertainment</td>\n",
              "      <td>ocean s twelve raids box office ocean s twelve...</td>\n",
              "    </tr>\n",
              "  </tbody>\n",
              "</table>\n",
              "</div>"
            ],
            "text/plain": [
              "        category                                               text\n",
              "0           tech  tv future in the hands of viewers with home th...\n",
              "1       business  worldcom boss  left books alone  former worldc...\n",
              "2          sport  tigers wary of farrell  gamble  leicester say ...\n",
              "3          sport  yeading face newcastle in fa cup premiership s...\n",
              "4  entertainment  ocean s twelve raids box office ocean s twelve..."
            ]
          },
          "metadata": {
            "tags": []
          },
          "execution_count": 3
        }
      ]
    },
    {
      "cell_type": "code",
      "metadata": {
        "id": "N5_3RGKNovFB",
        "colab_type": "code",
        "outputId": "7dc2f5ea-e26e-40af-90d1-c53ecd7eea61",
        "colab": {
          "base_uri": "https://localhost:8080/",
          "height": 145
        }
      },
      "source": [
        "df.info()"
      ],
      "execution_count": 4,
      "outputs": [
        {
          "output_type": "stream",
          "text": [
            "<class 'pandas.core.frame.DataFrame'>\n",
            "RangeIndex: 2225 entries, 0 to 2224\n",
            "Data columns (total 2 columns):\n",
            "category    2225 non-null object\n",
            "text        2225 non-null object\n",
            "dtypes: object(2)\n",
            "memory usage: 34.9+ KB\n"
          ],
          "name": "stdout"
        }
      ]
    },
    {
      "cell_type": "code",
      "metadata": {
        "id": "AIxWPe0WoxpF",
        "colab_type": "code",
        "outputId": "9c6ab434-a76a-4949-fb49-91a19035e7ca",
        "colab": {
          "base_uri": "https://localhost:8080/",
          "height": 126
        }
      },
      "source": [
        "df['category'].value_counts()"
      ],
      "execution_count": 5,
      "outputs": [
        {
          "output_type": "execute_result",
          "data": {
            "text/plain": [
              "sport            511\n",
              "business         510\n",
              "politics         417\n",
              "tech             401\n",
              "entertainment    386\n",
              "Name: category, dtype: int64"
            ]
          },
          "metadata": {
            "tags": []
          },
          "execution_count": 5
        }
      ]
    },
    {
      "cell_type": "code",
      "metadata": {
        "id": "VuM1ij1ipDYB",
        "colab_type": "code",
        "outputId": "fca90992-d2f4-4d84-d710-4a531edbafbb",
        "colab": {
          "base_uri": "https://localhost:8080/",
          "height": 35
        }
      },
      "source": [
        "df.columns"
      ],
      "execution_count": 6,
      "outputs": [
        {
          "output_type": "execute_result",
          "data": {
            "text/plain": [
              "Index(['category', 'text'], dtype='object')"
            ]
          },
          "metadata": {
            "tags": []
          },
          "execution_count": 6
        }
      ]
    },
    {
      "cell_type": "code",
      "metadata": {
        "id": "kXgTQmpGpJAg",
        "colab_type": "code",
        "outputId": "3eba2840-f2ad-46aa-ab93-dffae6aa2071",
        "colab": {
          "base_uri": "https://localhost:8080/",
          "height": 54
        }
      },
      "source": [
        "#cleaning the texts\n",
        "import re\n",
        "import nltk\n",
        "nltk.download('stopwords')\n",
        "from nltk.corpus import stopwords\n",
        "from nltk.stem.porter import PorterStemmer\n",
        "corpus=[]\n",
        "for i in range(0, 2225):\n",
        "    text = re.sub('[^a-zA-Z]',' ', df['text'][i])\n",
        "    text = text.lower()\n",
        "    text = text.split()\n",
        "    ps= PorterStemmer()\n",
        "    text=[ps.stem(word) for word in text if not word in set(stopwords.words('english'))]\n",
        "    text=' '.join(text)\n",
        "    corpus.append(text)\n"
      ],
      "execution_count": 7,
      "outputs": [
        {
          "output_type": "stream",
          "text": [
            "[nltk_data] Downloading package stopwords to /root/nltk_data...\n",
            "[nltk_data]   Unzipping corpora/stopwords.zip.\n"
          ],
          "name": "stdout"
        }
      ]
    },
    {
      "cell_type": "code",
      "metadata": {
        "id": "vjzQ31RXtFtr",
        "colab_type": "code",
        "outputId": "cc346a41-dc17-4a35-b732-fe8fb6e544ac",
        "colab": {
          "base_uri": "https://localhost:8080/",
          "height": 55
        }
      },
      "source": [
        "corpus[1]"
      ],
      "execution_count": 8,
      "outputs": [
        {
          "output_type": "execute_result",
          "data": {
            "text/plain": [
              "'worldcom boss left book alon former worldcom boss berni ebber accus overse bn bn fraud never made account decis wit told juror david myer made comment question defenc lawyer argu mr ebber respons worldcom problem phone compani collaps prosecutor claim loss hidden protect firm share mr myer alreadi plead guilti fraud assist prosecutor monday defenc lawyer reid weingarten tri distanc client alleg cross examin ask mr myer ever knew mr ebber make account decis awar mr myer repli ever know mr ebber make account entri worldcom book mr weingarten press repli wit mr myer admit order fals account entri request former worldcom chief financi offic scott sullivan defenc lawyer tri paint mr sullivan admit fraud testifi later trial mastermind behind worldcom account hous card mr ebber team meanwhil look portray affabl boss admiss pe graduat economist whatev abil mr ebber transform worldcom rel unknown bn telecom giant investor darl late worldcom problem mount howev competit increas telecom boom peter firm final collaps sharehold lost bn worker lost job mr ebber trial expect last two month found guilti former ceo face substanti jail sentenc firmli declar innoc'"
            ]
          },
          "metadata": {
            "tags": []
          },
          "execution_count": 8
        }
      ]
    },
    {
      "cell_type": "code",
      "metadata": {
        "id": "5KYZU7fApVKM",
        "colab_type": "code",
        "colab": {}
      },
      "source": [
        "#keras.preprocessing.text.Tokenizer(num_words=None, filters='!\"#$%&()*+,-./:;<=>?@[\\\\]^_`{|}~\\t\\n', lower=True, split=' ', char_level=False, oov_token=None, document_count=0)"
      ],
      "execution_count": 0,
      "outputs": []
    },
    {
      "cell_type": "code",
      "metadata": {
        "id": "o980_ZTesumq",
        "colab_type": "code",
        "colab": {
          "base_uri": "https://localhost:8080/",
          "height": 83
        },
        "outputId": "a19987e4-4fc1-4e4e-f6e8-cbae3b2b04e6"
      },
      "source": [
        "from keras.preprocessing.text import Tokenizer\n",
        "tokenizer = Tokenizer(num_words=None, filters='!\"#$%&()*+,-./:;<=>?@[\\\\]^_`{|}~\\t\\n', lower=True, split=' ', char_level=False, oov_token=None, document_count=0)"
      ],
      "execution_count": 10,
      "outputs": [
        {
          "output_type": "stream",
          "text": [
            "Using TensorFlow backend.\n"
          ],
          "name": "stderr"
        },
        {
          "output_type": "display_data",
          "data": {
            "text/html": [
              "<p style=\"color: red;\">\n",
              "The default version of TensorFlow in Colab will soon switch to TensorFlow 2.x.<br>\n",
              "We recommend you <a href=\"https://www.tensorflow.org/guide/migrate\" target=\"_blank\">upgrade</a> now \n",
              "or ensure your notebook will continue to use TensorFlow 1.x via the <code>%tensorflow_version 1.x</code> magic:\n",
              "<a href=\"https://colab.research.google.com/notebooks/tensorflow_version.ipynb\" target=\"_blank\">more info</a>.</p>\n"
            ],
            "text/plain": [
              "<IPython.core.display.HTML object>"
            ]
          },
          "metadata": {
            "tags": []
          }
        }
      ]
    },
    {
      "cell_type": "code",
      "metadata": {
        "id": "j13iJi3Isz0P",
        "colab_type": "code",
        "colab": {}
      },
      "source": [
        "tokenizer.fit_on_texts(corpus) \n",
        "X = tokenizer.texts_to_sequences(corpus)"
      ],
      "execution_count": 0,
      "outputs": []
    },
    {
      "cell_type": "code",
      "metadata": {
        "id": "civ8kapstL9Q",
        "colab_type": "code",
        "outputId": "a2feadbc-a6fa-44c3-96bf-099ba9a255fc",
        "colab": {
          "base_uri": "https://localhost:8080/",
          "height": 1000
        }
      },
      "source": [
        "X[1]"
      ],
      "execution_count": 12,
      "outputs": [
        {
          "output_type": "execute_result",
          "data": {
            "text/plain": [
              "[1475,\n",
              " 583,\n",
              " 322,\n",
              " 364,\n",
              " 1329,\n",
              " 174,\n",
              " 1475,\n",
              " 583,\n",
              " 4264,\n",
              " 1491,\n",
              " 562,\n",
              " 3262,\n",
              " 35,\n",
              " 35,\n",
              " 838,\n",
              " 361,\n",
              " 45,\n",
              " 332,\n",
              " 183,\n",
              " 1987,\n",
              " 39,\n",
              " 3898,\n",
              " 416,\n",
              " 4486,\n",
              " 45,\n",
              " 417,\n",
              " 372,\n",
              " 857,\n",
              " 917,\n",
              " 544,\n",
              " 3,\n",
              " 1491,\n",
              " 328,\n",
              " 1475,\n",
              " 166,\n",
              " 94,\n",
              " 28,\n",
              " 1607,\n",
              " 1620,\n",
              " 96,\n",
              " 752,\n",
              " 2474,\n",
              " 399,\n",
              " 32,\n",
              " 88,\n",
              " 3,\n",
              " 4486,\n",
              " 160,\n",
              " 1903,\n",
              " 1154,\n",
              " 838,\n",
              " 1262,\n",
              " 1620,\n",
              " 507,\n",
              " 857,\n",
              " 917,\n",
              " 3749,\n",
              " 6805,\n",
              " 101,\n",
              " 1673,\n",
              " 1764,\n",
              " 771,\n",
              " 811,\n",
              " 1904,\n",
              " 236,\n",
              " 3,\n",
              " 4486,\n",
              " 452,\n",
              " 1374,\n",
              " 3,\n",
              " 1491,\n",
              " 15,\n",
              " 332,\n",
              " 183,\n",
              " 1136,\n",
              " 3,\n",
              " 4486,\n",
              " 2475,\n",
              " 452,\n",
              " 181,\n",
              " 3,\n",
              " 1491,\n",
              " 15,\n",
              " 332,\n",
              " 1343,\n",
              " 1475,\n",
              " 364,\n",
              " 3,\n",
              " 6805,\n",
              " 677,\n",
              " 2475,\n",
              " 1987,\n",
              " 3,\n",
              " 4486,\n",
              " 648,\n",
              " 369,\n",
              " 1765,\n",
              " 332,\n",
              " 1343,\n",
              " 1645,\n",
              " 174,\n",
              " 1475,\n",
              " 155,\n",
              " 362,\n",
              " 140,\n",
              " 1540,\n",
              " 1251,\n",
              " 857,\n",
              " 917,\n",
              " 101,\n",
              " 2539,\n",
              " 3,\n",
              " 1251,\n",
              " 648,\n",
              " 838,\n",
              " 6806,\n",
              " 326,\n",
              " 503,\n",
              " 6208,\n",
              " 453,\n",
              " 1475,\n",
              " 332,\n",
              " 233,\n",
              " 356,\n",
              " 3,\n",
              " 1491,\n",
              " 165,\n",
              " 831,\n",
              " 60,\n",
              " 2476,\n",
              " 12867,\n",
              " 583,\n",
              " 3163,\n",
              " 7520,\n",
              " 3488,\n",
              " 926,\n",
              " 1955,\n",
              " 1025,\n",
              " 3,\n",
              " 1491,\n",
              " 2333,\n",
              " 1475,\n",
              " 1421,\n",
              " 3389,\n",
              " 35,\n",
              " 1178,\n",
              " 608,\n",
              " 737,\n",
              " 5017,\n",
              " 643,\n",
              " 1475,\n",
              " 166,\n",
              " 2608,\n",
              " 131,\n",
              " 373,\n",
              " 123,\n",
              " 1178,\n",
              " 1525,\n",
              " 1018,\n",
              " 32,\n",
              " 126,\n",
              " 1607,\n",
              " 839,\n",
              " 311,\n",
              " 35,\n",
              " 747,\n",
              " 311,\n",
              " 173,\n",
              " 3,\n",
              " 1491,\n",
              " 503,\n",
              " 63,\n",
              " 16,\n",
              " 18,\n",
              " 42,\n",
              " 240,\n",
              " 1154,\n",
              " 174,\n",
              " 5018,\n",
              " 125,\n",
              " 1794,\n",
              " 1344,\n",
              " 1079,\n",
              " 3607,\n",
              " 1391,\n",
              " 2216]"
            ]
          },
          "metadata": {
            "tags": []
          },
          "execution_count": 12
        }
      ]
    },
    {
      "cell_type": "code",
      "metadata": {
        "id": "lPKX6tLdvbar",
        "colab_type": "code",
        "outputId": "542312d7-a2ee-43dd-deff-4a85ae1b23b0",
        "colab": {
          "base_uri": "https://localhost:8080/",
          "height": 35
        }
      },
      "source": [
        "#padding\n",
        "from keras.preprocessing.sequence import pad_sequences\n",
        "\n",
        "X = pad_sequences(X)\n",
        "print('Shape of data tensor:', X.shape)"
      ],
      "execution_count": 13,
      "outputs": [
        {
          "output_type": "stream",
          "text": [
            "Shape of data tensor: (2225, 2203)\n"
          ],
          "name": "stdout"
        }
      ]
    },
    {
      "cell_type": "code",
      "metadata": {
        "id": "OqJumgJowJzq",
        "colab_type": "code",
        "colab": {
          "base_uri": "https://localhost:8080/",
          "height": 35
        },
        "outputId": "ec9d7570-1aa5-48fc-9b49-4ffce297fd42"
      },
      "source": [
        "X[1].shape"
      ],
      "execution_count": 14,
      "outputs": [
        {
          "output_type": "execute_result",
          "data": {
            "text/plain": [
              "(2203,)"
            ]
          },
          "metadata": {
            "tags": []
          },
          "execution_count": 14
        }
      ]
    },
    {
      "cell_type": "code",
      "metadata": {
        "id": "4FaRpLF-0eWc",
        "colab_type": "code",
        "colab": {}
      },
      "source": [
        "mapping = {i: n for n, i in enumerate(list(set(df.category)))}"
      ],
      "execution_count": 0,
      "outputs": []
    },
    {
      "cell_type": "code",
      "metadata": {
        "id": "9CGHsMOB0vRd",
        "colab_type": "code",
        "colab": {
          "base_uri": "https://localhost:8080/",
          "height": 35
        },
        "outputId": "5bc78788-1e58-4cb1-db05-616a5d068f4b"
      },
      "source": [
        "mapping"
      ],
      "execution_count": 16,
      "outputs": [
        {
          "output_type": "execute_result",
          "data": {
            "text/plain": [
              "{'business': 0, 'entertainment': 1, 'politics': 4, 'sport': 3, 'tech': 2}"
            ]
          },
          "metadata": {
            "tags": []
          },
          "execution_count": 16
        }
      ]
    },
    {
      "cell_type": "code",
      "metadata": {
        "id": "hwP1OKdM0vGe",
        "colab_type": "code",
        "colab": {
          "base_uri": "https://localhost:8080/",
          "height": 35
        },
        "outputId": "1fc9473c-88b8-4378-d92d-2b53f55079e5"
      },
      "source": [
        "list(set(df.category))"
      ],
      "execution_count": 17,
      "outputs": [
        {
          "output_type": "execute_result",
          "data": {
            "text/plain": [
              "['business', 'entertainment', 'tech', 'sport', 'politics']"
            ]
          },
          "metadata": {
            "tags": []
          },
          "execution_count": 17
        }
      ]
    },
    {
      "cell_type": "code",
      "metadata": {
        "id": "fjiB-Pah0KCg",
        "colab_type": "code",
        "colab": {}
      },
      "source": [
        "df['target'] = df.category.map(mapping)"
      ],
      "execution_count": 0,
      "outputs": []
    },
    {
      "cell_type": "code",
      "metadata": {
        "id": "aRsQB1rP09IZ",
        "colab_type": "code",
        "colab": {
          "base_uri": "https://localhost:8080/",
          "height": 198
        },
        "outputId": "d1090bd0-4a17-4669-a585-fd66d51b2a20"
      },
      "source": [
        "df.head()"
      ],
      "execution_count": 19,
      "outputs": [
        {
          "output_type": "execute_result",
          "data": {
            "text/html": [
              "<div>\n",
              "<style scoped>\n",
              "    .dataframe tbody tr th:only-of-type {\n",
              "        vertical-align: middle;\n",
              "    }\n",
              "\n",
              "    .dataframe tbody tr th {\n",
              "        vertical-align: top;\n",
              "    }\n",
              "\n",
              "    .dataframe thead th {\n",
              "        text-align: right;\n",
              "    }\n",
              "</style>\n",
              "<table border=\"1\" class=\"dataframe\">\n",
              "  <thead>\n",
              "    <tr style=\"text-align: right;\">\n",
              "      <th></th>\n",
              "      <th>category</th>\n",
              "      <th>text</th>\n",
              "      <th>target</th>\n",
              "    </tr>\n",
              "  </thead>\n",
              "  <tbody>\n",
              "    <tr>\n",
              "      <th>0</th>\n",
              "      <td>tech</td>\n",
              "      <td>tv future in the hands of viewers with home th...</td>\n",
              "      <td>2</td>\n",
              "    </tr>\n",
              "    <tr>\n",
              "      <th>1</th>\n",
              "      <td>business</td>\n",
              "      <td>worldcom boss  left books alone  former worldc...</td>\n",
              "      <td>0</td>\n",
              "    </tr>\n",
              "    <tr>\n",
              "      <th>2</th>\n",
              "      <td>sport</td>\n",
              "      <td>tigers wary of farrell  gamble  leicester say ...</td>\n",
              "      <td>3</td>\n",
              "    </tr>\n",
              "    <tr>\n",
              "      <th>3</th>\n",
              "      <td>sport</td>\n",
              "      <td>yeading face newcastle in fa cup premiership s...</td>\n",
              "      <td>3</td>\n",
              "    </tr>\n",
              "    <tr>\n",
              "      <th>4</th>\n",
              "      <td>entertainment</td>\n",
              "      <td>ocean s twelve raids box office ocean s twelve...</td>\n",
              "      <td>1</td>\n",
              "    </tr>\n",
              "  </tbody>\n",
              "</table>\n",
              "</div>"
            ],
            "text/plain": [
              "        category                                               text  target\n",
              "0           tech  tv future in the hands of viewers with home th...       2\n",
              "1       business  worldcom boss  left books alone  former worldc...       0\n",
              "2          sport  tigers wary of farrell  gamble  leicester say ...       3\n",
              "3          sport  yeading face newcastle in fa cup premiership s...       3\n",
              "4  entertainment  ocean s twelve raids box office ocean s twelve...       1"
            ]
          },
          "metadata": {
            "tags": []
          },
          "execution_count": 19
        }
      ]
    },
    {
      "cell_type": "code",
      "metadata": {
        "id": "xFaFVsIsxpJh",
        "colab_type": "code",
        "colab": {}
      },
      "source": [
        "# one hot encode\n",
        "from keras.utils import to_categorical\n",
        "Y = to_categorical(df['target'])"
      ],
      "execution_count": 0,
      "outputs": []
    },
    {
      "cell_type": "code",
      "metadata": {
        "id": "y5AQxlAQz_Zr",
        "colab_type": "code",
        "colab": {
          "base_uri": "https://localhost:8080/",
          "height": 145
        },
        "outputId": "8d48dbeb-0e63-43ec-c9ab-cbdeaa00f917"
      },
      "source": [
        "Y"
      ],
      "execution_count": 21,
      "outputs": [
        {
          "output_type": "execute_result",
          "data": {
            "text/plain": [
              "array([[0., 0., 1., 0., 0.],\n",
              "       [1., 0., 0., 0., 0.],\n",
              "       [0., 0., 0., 1., 0.],\n",
              "       ...,\n",
              "       [0., 1., 0., 0., 0.],\n",
              "       [0., 0., 0., 0., 1.],\n",
              "       [0., 0., 0., 1., 0.]], dtype=float32)"
            ]
          },
          "metadata": {
            "tags": []
          },
          "execution_count": 21
        }
      ]
    },
    {
      "cell_type": "code",
      "metadata": {
        "id": "QbmNGY6o1Cl6",
        "colab_type": "code",
        "colab": {}
      },
      "source": [
        "# Splitting the dataset into the Training set and Test set\n",
        "from sklearn.model_selection import train_test_split\n",
        "X_train, X_test, y_train, y_test = train_test_split(X, Y, test_size = 0.20, random_state = 0)"
      ],
      "execution_count": 0,
      "outputs": []
    },
    {
      "cell_type": "code",
      "metadata": {
        "id": "2ibRDgRA1mQ4",
        "colab_type": "code",
        "colab": {}
      },
      "source": [
        "from keras.models import Sequential\n",
        "from keras.layers import Dense, LSTM, Embedding\n",
        "\n",
        " "
      ],
      "execution_count": 0,
      "outputs": []
    },
    {
      "cell_type": "code",
      "metadata": {
        "id": "62OvlygQ48C9",
        "colab_type": "code",
        "colab": {}
      },
      "source": [
        "N_words = len(tokenizer.word_counts)"
      ],
      "execution_count": 0,
      "outputs": []
    },
    {
      "cell_type": "code",
      "metadata": {
        "id": "262OsODs3Dbd",
        "colab_type": "code",
        "colab": {
          "base_uri": "https://localhost:8080/",
          "height": 528
        },
        "outputId": "489e033b-45ed-46ab-e90d-8b2ad8ef86a3"
      },
      "source": [
        "embed_dim = 128\n",
        "lstm_out = 200\n",
        "batch_size = 32\n",
        "\n",
        "model = Sequential()\n",
        "model.add(Embedding(N_words + 1, embed_dim, input_length = X.shape[1], dropout = 0.2, name='emb'))\n",
        "model.add(LSTM(lstm_out))\n",
        "model.add(Dense(5,activation='softmax'))\n",
        "model.compile(loss = 'categorical_crossentropy', optimizer='adam',metrics = ['accuracy'])\n",
        "print(model.summary())"
      ],
      "execution_count": 26,
      "outputs": [
        {
          "output_type": "stream",
          "text": [
            "WARNING:tensorflow:From /usr/local/lib/python3.6/dist-packages/keras/backend/tensorflow_backend.py:66: The name tf.get_default_graph is deprecated. Please use tf.compat.v1.get_default_graph instead.\n",
            "\n",
            "WARNING:tensorflow:From /usr/local/lib/python3.6/dist-packages/keras/backend/tensorflow_backend.py:541: The name tf.placeholder is deprecated. Please use tf.compat.v1.placeholder instead.\n",
            "\n",
            "WARNING:tensorflow:From /usr/local/lib/python3.6/dist-packages/keras/backend/tensorflow_backend.py:4432: The name tf.random_uniform is deprecated. Please use tf.random.uniform instead.\n",
            "\n"
          ],
          "name": "stdout"
        },
        {
          "output_type": "stream",
          "text": [
            "/usr/local/lib/python3.6/dist-packages/ipykernel_launcher.py:6: UserWarning: The `dropout` argument is no longer support in `Embedding`. You can apply a `keras.layers.SpatialDropout1D` layer right after the `Embedding` layer to get the same behavior.\n",
            "  \n"
          ],
          "name": "stderr"
        },
        {
          "output_type": "stream",
          "text": [
            "WARNING:tensorflow:From /usr/local/lib/python3.6/dist-packages/keras/optimizers.py:793: The name tf.train.Optimizer is deprecated. Please use tf.compat.v1.train.Optimizer instead.\n",
            "\n",
            "WARNING:tensorflow:From /usr/local/lib/python3.6/dist-packages/keras/backend/tensorflow_backend.py:3576: The name tf.log is deprecated. Please use tf.math.log instead.\n",
            "\n",
            "Model: \"sequential_1\"\n",
            "_________________________________________________________________\n",
            "Layer (type)                 Output Shape              Param #   \n",
            "=================================================================\n",
            "emb (Embedding)              (None, 2203, 128)         2431872   \n",
            "_________________________________________________________________\n",
            "lstm_1 (LSTM)                (None, 200)               263200    \n",
            "_________________________________________________________________\n",
            "dense_1 (Dense)              (None, 5)                 1005      \n",
            "=================================================================\n",
            "Total params: 2,696,077\n",
            "Trainable params: 2,696,077\n",
            "Non-trainable params: 0\n",
            "_________________________________________________________________\n",
            "None\n"
          ],
          "name": "stdout"
        }
      ]
    },
    {
      "cell_type": "code",
      "metadata": {
        "id": "iZvV1g3R3sbx",
        "colab_type": "code",
        "colab": {
          "base_uri": "https://localhost:8080/",
          "height": 199
        },
        "outputId": "76486e32-ef8f-4b91-ed3d-c5b3e09d51a4"
      },
      "source": [
        "#Here we train the Network.\n",
        "\n",
        "train = model.fit( X_train, y_train, batch_size = 128, epochs=10,  verbose = 5)"
      ],
      "execution_count": 42,
      "outputs": [
        {
          "output_type": "stream",
          "text": [
            "Epoch 1/10\n",
            "Epoch 2/10\n",
            "Epoch 3/10\n",
            "Epoch 4/10\n",
            "Epoch 5/10\n",
            "Epoch 6/10\n",
            "Epoch 7/10\n",
            "Epoch 8/10\n",
            "Epoch 9/10\n",
            "Epoch 10/10\n"
          ],
          "name": "stdout"
        }
      ]
    },
    {
      "cell_type": "code",
      "metadata": {
        "id": "QxgNIfV633gD",
        "colab_type": "code",
        "colab": {
          "base_uri": "https://localhost:8080/",
          "height": 35
        },
        "outputId": "fe91b309-1154-4063-93ce-3ff813c95fd1"
      },
      "source": [
        "result = model.evaluate(X_test, y_test)"
      ],
      "execution_count": 43,
      "outputs": [
        {
          "output_type": "stream",
          "text": [
            "445/445 [==============================] - 15s 33ms/step\n"
          ],
          "name": "stdout"
        }
      ]
    },
    {
      "cell_type": "code",
      "metadata": {
        "id": "bikYGxUfYzJg",
        "colab_type": "code",
        "colab": {
          "base_uri": "https://localhost:8080/",
          "height": 35
        },
        "outputId": "2fa20942-73ee-4531-9032-6d71105ef134"
      },
      "source": [
        "print(\"SCORE, ACCURACY: \", result)"
      ],
      "execution_count": 44,
      "outputs": [
        {
          "output_type": "stream",
          "text": [
            "SCORE, ACCURACY:  [0.14192678839847278, 0.9730337078651685]\n"
          ],
          "name": "stdout"
        }
      ]
    },
    {
      "cell_type": "code",
      "metadata": {
        "id": "oq_CcPpGZX5b",
        "colab_type": "code",
        "colab": {}
      },
      "source": [
        ""
      ],
      "execution_count": 0,
      "outputs": []
    }
  ]
}